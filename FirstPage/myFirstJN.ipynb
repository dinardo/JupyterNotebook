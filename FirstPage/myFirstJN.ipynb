{
 "cells": [
  {
   "cell_type": "markdown",
   "metadata": {},
   "source": [
    "# This is my first JupyterNotebook file  \n",
    "Mathematics: $\\sum_{n=1}^{\\infty} 2^{-n} = 1$  \n",
    "More complex mathematics:  \n",
    "\\begin{equation}\n",
    "    \\int_{a}^{b} x^2 \\,dx\n",
    "\\end{equation}\n",
    "***\n",
    "This is instead an example of how to embed an image:\n",
    "\n",
    "<img src=\"Figures/Wild.jpg\" width=\"200\" style=\"display=block; margin:auto\"/>\n",
    "<p style=\"text-align: center\">\n",
    "    <b>This is the caption</b>\n",
    "</p>\n",
    "This is again further text...\n",
    "<!-- This is my comment, not displayed -->"
   ]
  },
  {
   "cell_type": "code",
   "execution_count": null,
   "metadata": {},
   "outputs": [],
   "source": [
    "print('Hello World!')"
   ]
  },
  {
   "cell_type": "code",
   "execution_count": null,
   "metadata": {},
   "outputs": [],
   "source": [
    "x = 2 + 2\n",
    "print(x)"
   ]
  }
 ],
 "metadata": {
  "interpreter": {
   "hash": "20bf69066c0dd38d51965b69d5e1b6e387082e3198ba56e97997ac55f4e50ad0"
  },
  "kernelspec": {
   "display_name": "Python 3.8.9 64-bit",
   "language": "python",
   "name": "python3"
  },
  "language_info": {
   "name": "python",
   "version": "3.8.9"
  },
  "orig_nbformat": 4
 },
 "nbformat": 4,
 "nbformat_minor": 2
}
